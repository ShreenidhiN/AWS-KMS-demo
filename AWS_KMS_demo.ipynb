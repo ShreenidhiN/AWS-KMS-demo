{
  "nbformat": 4,
  "nbformat_minor": 0,
  "metadata": {
    "colab": {
      "name": "Copy of CC_Package_KMS for github.ipynb",
      "provenance": [],
      "collapsed_sections": []
    },
    "kernelspec": {
      "name": "python3",
      "display_name": "Python 3"
    },
    "language_info": {
      "name": "python"
    }
  },
  "cells": [
    {
      "cell_type": "code",
      "execution_count": null,
      "metadata": {
        "id": "s4KEwC9gzS_-",
        "colab": {
          "base_uri": "https://localhost:8080/"
        },
        "outputId": "ba8f4336-b0d0-4e49-c0af-7869abb709fa"
      },
      "outputs": [
        {
          "output_type": "stream",
          "name": "stdout",
          "text": [
            "Collecting boto3\n",
            "  Downloading boto3-1.22.10-py3-none-any.whl (132 kB)\n",
            "\u001b[K     |████████████████████████████████| 132 kB 15.5 MB/s \n",
            "\u001b[?25hCollecting botocore<1.26.0,>=1.25.10\n",
            "  Downloading botocore-1.25.10-py3-none-any.whl (8.7 MB)\n",
            "\u001b[K     |████████████████████████████████| 8.7 MB 32.2 MB/s \n",
            "\u001b[?25hCollecting s3transfer<0.6.0,>=0.5.0\n",
            "  Downloading s3transfer-0.5.2-py3-none-any.whl (79 kB)\n",
            "\u001b[K     |████████████████████████████████| 79 kB 4.4 MB/s \n",
            "\u001b[?25hCollecting jmespath<2.0.0,>=0.7.1\n",
            "  Downloading jmespath-1.0.0-py3-none-any.whl (23 kB)\n",
            "Requirement already satisfied: python-dateutil<3.0.0,>=2.1 in /usr/local/lib/python3.7/dist-packages (from botocore<1.26.0,>=1.25.10->boto3) (2.8.2)\n",
            "Collecting urllib3<1.27,>=1.25.4\n",
            "  Downloading urllib3-1.26.9-py2.py3-none-any.whl (138 kB)\n",
            "\u001b[K     |████████████████████████████████| 138 kB 65.9 MB/s \n",
            "\u001b[?25hRequirement already satisfied: six>=1.5 in /usr/local/lib/python3.7/dist-packages (from python-dateutil<3.0.0,>=2.1->botocore<1.26.0,>=1.25.10->boto3) (1.15.0)\n",
            "Installing collected packages: urllib3, jmespath, botocore, s3transfer, boto3\n",
            "  Attempting uninstall: urllib3\n",
            "    Found existing installation: urllib3 1.24.3\n",
            "    Uninstalling urllib3-1.24.3:\n",
            "      Successfully uninstalled urllib3-1.24.3\n",
            "\u001b[31mERROR: pip's dependency resolver does not currently take into account all the packages that are installed. This behaviour is the source of the following dependency conflicts.\n",
            "requests 2.23.0 requires urllib3!=1.25.0,!=1.25.1,<1.26,>=1.21.1, but you have urllib3 1.26.9 which is incompatible.\n",
            "datascience 0.10.6 requires folium==0.2.1, but you have folium 0.8.3 which is incompatible.\u001b[0m\n",
            "Successfully installed boto3-1.22.10 botocore-1.25.10 jmespath-1.0.0 s3transfer-0.5.2 urllib3-1.26.9\n"
          ]
        }
      ],
      "source": [
        "!pip install boto3"
      ]
    },
    {
      "cell_type": "code",
      "source": [
        "!pip install cryptography"
      ],
      "metadata": {
        "id": "YJcoiRiizV5B",
        "colab": {
          "base_uri": "https://localhost:8080/"
        },
        "outputId": "7dbc5bb3-2bc8-4872-ab62-7484cddfe882"
      },
      "execution_count": null,
      "outputs": [
        {
          "output_type": "stream",
          "name": "stdout",
          "text": [
            "Collecting cryptography\n",
            "  Downloading cryptography-37.0.2-cp36-abi3-manylinux_2_24_x86_64.whl (4.0 MB)\n",
            "\u001b[K     |████████████████████████████████| 4.0 MB 12.6 MB/s \n",
            "\u001b[?25hRequirement already satisfied: cffi>=1.12 in /usr/local/lib/python3.7/dist-packages (from cryptography) (1.15.0)\n",
            "Requirement already satisfied: pycparser in /usr/local/lib/python3.7/dist-packages (from cffi>=1.12->cryptography) (2.21)\n",
            "Installing collected packages: cryptography\n",
            "Successfully installed cryptography-37.0.2\n"
          ]
        }
      ]
    },
    {
      "cell_type": "markdown",
      "source": [
        "**IMPORT REQUIRED LIBRARIES**"
      ],
      "metadata": {
        "id": "vG-kH9RGXzr0"
      }
    },
    {
      "cell_type": "code",
      "source": [
        "import boto3\n",
        "import base64\n",
        "import logging\n",
        "from cryptography.fernet import Fernet"
      ],
      "metadata": {
        "id": "tSK1zDZXzY-F"
      },
      "execution_count": null,
      "outputs": []
    },
    {
      "cell_type": "code",
      "source": [
        "aws_access_key=\"{}\"\n",
        "aws_secret_key=\"{}\""
      ],
      "metadata": {
        "id": "8Ysyt_Wtzhud"
      },
      "execution_count": null,
      "outputs": []
    },
    {
      "cell_type": "markdown",
      "source": [
        "**DEFINE ACCESS AND SECRET KEYS OF THE AWS ACCOUNT USED**"
      ],
      "metadata": {
        "id": "ONJn7DRuX3sF"
      }
    },
    {
      "cell_type": "markdown",
      "source": [
        "Enter the AWS access key id and secret access key from your respective AWS account"
      ],
      "metadata": {
        "id": "V8RuNWZlDV-i"
      }
    },
    {
      "cell_type": "code",
      "source": [
        "import boto3\n",
        "session = boto3.Session(\n",
        "    aws_access_key_id=\"\",\n",
        "    aws_secret_access_key=\"\",\n",
        "    region_name=\"\"\n",
        ")"
      ],
      "metadata": {
        "id": "h-3NJynCzkHi"
      },
      "execution_count": null,
      "outputs": []
    },
    {
      "cell_type": "code",
      "source": [
        "kms_client=session.client('kms')"
      ],
      "metadata": {
        "id": "Y8IdF4Q21Uk0"
      },
      "execution_count": null,
      "outputs": []
    },
    {
      "cell_type": "code",
      "source": [
        "from botocore.exceptions import ClientError"
      ],
      "metadata": {
        "id": "10gYThpx21Kv"
      },
      "execution_count": null,
      "outputs": []
    },
    {
      "cell_type": "code",
      "source": [
        "import logging\n",
        "logger = logging.getLogger()\n",
        "logging.basicConfig(level=logging.INFO,\n",
        "                    format='%(asctime)s: %(levelname)s: %(message)s')"
      ],
      "metadata": {
        "id": "FL10l0wF25Ub"
      },
      "execution_count": null,
      "outputs": []
    },
    {
      "cell_type": "markdown",
      "source": [
        "**CREATING KMS KEY**"
      ],
      "metadata": {
        "id": "wJbwuYF2YB87"
      }
    },
    {
      "cell_type": "code",
      "source": [
        "def create_kms_key():\n",
        "    \"\"\"\n",
        "    Creates a unique customer managed KMS key.\n",
        "    \"\"\"\n",
        "    try:\n",
        "        response = kms_client.create_key(Description='cmk-key',\n",
        "                                         Tags=[{\n",
        "                                             'TagKey': 'Name',\n",
        "                                             'TagValue': 'hands-on-cloud-cmk'\n",
        "                                         }])\n",
        "\n",
        "    except ClientError:\n",
        "        logger.exception('Could not create a CMK key.')\n",
        "        raise\n",
        "    else:\n",
        "        return response\n"
      ],
      "metadata": {
        "id": "mGJczSDM2sEI"
      },
      "execution_count": null,
      "outputs": []
    },
    {
      "cell_type": "code",
      "source": [
        "kms = create_kms_key()"
      ],
      "metadata": {
        "id": "KnxByCm82sAw"
      },
      "execution_count": null,
      "outputs": []
    },
    {
      "cell_type": "markdown",
      "source": [
        "**META DATA OF THE KEY**"
      ],
      "metadata": {
        "id": "D5n1VeO9YFxI"
      }
    },
    {
      "cell_type": "markdown",
      "source": [
        "The meta data of the key gets displayed"
      ],
      "metadata": {
        "id": "bRcZjnBUDhw6"
      }
    },
    {
      "cell_type": "code",
      "source": [
        "kms"
      ],
      "metadata": {
        "id": "AIx8kuQp2r-Y"
      },
      "execution_count": null,
      "outputs": []
    },
    {
      "cell_type": "markdown",
      "source": [
        "**KEY ID GENERATED**"
      ],
      "metadata": {
        "id": "iUheG7zpYKgk"
      }
    },
    {
      "cell_type": "code",
      "source": [
        "key_id = kms['KeyMetadata']['KeyId']\n",
        "key_id"
      ],
      "metadata": {
        "colab": {
          "base_uri": "https://localhost:8080/",
          "height": 36
        },
        "id": "_KIRU8AL2r7y",
        "outputId": "47b328bd-7151-464c-d0c0-ea2483e54f54"
      },
      "execution_count": null,
      "outputs": [
        {
          "output_type": "execute_result",
          "data": {
            "text/plain": [
              "'781fdbd0-4855-4086-8086-67db631f1729'"
            ],
            "application/vnd.google.colaboratory.intrinsic+json": {
              "type": "string"
            }
          },
          "metadata": {},
          "execution_count": 26
        }
      ]
    },
    {
      "cell_type": "markdown",
      "source": [
        "**CREATE DATA KEY**"
      ],
      "metadata": {
        "id": "HagWW4wDYVaH"
      }
    },
    {
      "cell_type": "code",
      "source": [
        "def create_data_key(cmk_id, key_spec='AES_256'):\n",
        "    \"\"\"Generate a data key to use when encrypting and decrypting data\n",
        "\n",
        "    :param cmk_id: KMS CMK ID or ARN under which to generate and encrypt the\n",
        "    data key.\n",
        "    :param key_spec: Length of the data encryption key. Supported values:\n",
        "        'AES_128': Generate a 128-bit symmetric key\n",
        "        'AES_256': Generate a 256-bit symmetric key\n",
        "    :return Tuple(EncryptedDataKey, PlaintextDataKey) where:\n",
        "        EncryptedDataKey: Encrypted CiphertextBlob data key as binary string\n",
        "        PlaintextDataKey: Plaintext base64-encoded data key as binary string\n",
        "    :return Tuple(None, None) if error\n",
        "    \"\"\"\n",
        "    try:\n",
        "        response = kms_client.generate_data_key(KeyId=cmk_id, KeySpec=key_spec)\n",
        "    except ClientError as e:\n",
        "        logging.error(e)\n",
        "        return None, None\n",
        "    \n",
        "\n",
        "\n",
        "    # Return the encrypted and plaintext data key\n",
        "    return response['CiphertextBlob'], base64.b64encode(response['Plaintext']).decode(encoding=\"utf-8\")"
      ],
      "metadata": {
        "id": "hAiQ72AB1b6N"
      },
      "execution_count": null,
      "outputs": []
    },
    {
      "cell_type": "code",
      "source": [
        "ms=create_data_key(key_id, key_spec='AES_256')"
      ],
      "metadata": {
        "id": "Ks9YVOqD1eNF"
      },
      "execution_count": null,
      "outputs": []
    },
    {
      "cell_type": "code",
      "source": [
        "data_key=ms[1]\n",
        "print(data_key)"
      ],
      "metadata": {
        "colab": {
          "base_uri": "https://localhost:8080/"
        },
        "id": "5Vch9im-1gt_",
        "outputId": "7ad4aca8-e5d3-4a4b-8305-935bf39c5028"
      },
      "execution_count": null,
      "outputs": [
        {
          "output_type": "stream",
          "name": "stdout",
          "text": [
            "uUr5OqqofP0vyUAZOyqA4S+p0bwU+xGgKKlHwSBZpO0=\n"
          ]
        }
      ]
    },
    {
      "cell_type": "markdown",
      "source": [
        "**TESTING WITH A FILE**"
      ],
      "metadata": {
        "id": "Td04ykPGYg5f"
      }
    },
    {
      "cell_type": "markdown",
      "source": [
        "**ENCRYPTION AND DECRYPTION**"
      ],
      "metadata": {
        "id": "vM4ZkxYaYlVb"
      }
    },
    {
      "cell_type": "code",
      "source": [
        "absolute_file_path_to_be_encrypted=input('Enter the filepath : ');\n",
        "encrpted_file_name_with_path=input('Enter the output filepath : ');\n",
        "\n",
        "f = Fernet(data_key)\n",
        "\n",
        "with open(absolute_file_path_to_be_encrypted, 'rb') as original_file:\n",
        "    original = original_file.read()\n",
        "\n",
        "encrypted = f.encrypt(original)\n",
        "\n",
        "with open (encrpted_file_name_with_path, 'wb') as encrypted_file:\n",
        "    encrypted_file.write(encrypted)"
      ],
      "metadata": {
        "colab": {
          "base_uri": "https://localhost:8080/"
        },
        "id": "cg9rCeBG1kBa",
        "outputId": "5f9a4832-1de0-447e-f860-c6360e2b8d50"
      },
      "execution_count": null,
      "outputs": [
        {
          "name": "stdout",
          "output_type": "stream",
          "text": [
            "Enter the filepath : input.txt\n",
            "Enter the output filepath : output.txt\n"
          ]
        }
      ]
    },
    {
      "cell_type": "code",
      "source": [
        ""
      ],
      "metadata": {
        "id": "PcEd0smXdDla"
      },
      "execution_count": null,
      "outputs": []
    },
    {
      "cell_type": "markdown",
      "source": [
        "**ENCRYPTED FILE**"
      ],
      "metadata": {
        "id": "DVd38jwoYwP2"
      }
    },
    {
      "cell_type": "code",
      "source": [
        "with open(encrpted_file_name_with_path, 'rb') as encrypted_file:\n",
        "    encrypted = encrypted_file.read()\n",
        "\n",
        "decrypted = f.decrypt(encrypted)\n",
        "\n"
      ],
      "metadata": {
        "id": "Pn-Pe-hG53JR"
      },
      "execution_count": null,
      "outputs": []
    },
    {
      "cell_type": "markdown",
      "source": [
        "**RECEIVED DATA AFTER DECRYPTION**"
      ],
      "metadata": {
        "id": "aej-q4GLYyzo"
      }
    },
    {
      "cell_type": "code",
      "source": [
        "with open('output.txt', 'wb') as decrypted_file:\n",
        "    decrypted_file.write(decrypted)"
      ],
      "metadata": {
        "id": "Dx2la2th6m7A"
      },
      "execution_count": null,
      "outputs": []
    },
    {
      "cell_type": "code",
      "source": [
        ""
      ],
      "metadata": {
        "id": "wkAJm7m36qOv"
      },
      "execution_count": null,
      "outputs": []
    },
    {
      "cell_type": "markdown",
      "source": [
        "**Demo of Encryption and Decryption using AWS KMS is done!**"
      ],
      "metadata": {
        "id": "38_6Vg4ODsLL"
      }
    },
    {
      "cell_type": "code",
      "source": [
        ""
      ],
      "metadata": {
        "id": "QY_IqPNtDxUn"
      },
      "execution_count": null,
      "outputs": []
    }
  ]
}